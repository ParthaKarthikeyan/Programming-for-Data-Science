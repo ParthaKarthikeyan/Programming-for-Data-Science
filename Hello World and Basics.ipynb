{
 "cells": [
  {
   "cell_type": "markdown",
   "metadata": {
    "collapsed": true
   },
   "source": [
    "# Programming for Data Science (Python)"
   ]
  },
  {
   "cell_type": "code",
   "execution_count": 2,
   "metadata": {},
   "outputs": [],
   "source": [
    "from IPython.core.interactiveshell import InteractiveShell\n",
    "InteractiveShell.ast_node_interactivity = \"all\""
   ]
  },
  {
   "cell_type": "code",
   "execution_count": 3,
   "metadata": {
    "scrolled": true
   },
   "outputs": [
    {
     "name": "stdout",
     "output_type": "stream",
     "text": [
      "hello, world\n",
      "hello, world\n",
      "hello, world\n",
      "hello_world\n",
      "hello, world 3 times\n"
     ]
    }
   ],
   "source": [
    "#Your first python code\n",
    "print(\"hello, world\")\n",
    "print(\"hello,\", \"world\")\n",
    "print(\"hello,\"+\" world\")\n",
    "print(\"hello\",\"world\",sep=\"_\")\n",
    "print(\"hello,\", \"world\", 3, \"times\")"
   ]
  },
  {
   "cell_type": "code",
   "execution_count": 4,
   "metadata": {},
   "outputs": [
    {
     "name": "stdout",
     "output_type": "stream",
     "text": [
      "Let's go\n"
     ]
    }
   ],
   "source": [
    "print(\"Let's go\")\n"
   ]
  },
  {
   "cell_type": "code",
   "execution_count": 5,
   "metadata": {},
   "outputs": [
    {
     "data": {
      "text/plain": [
       "32"
      ]
     },
     "execution_count": 5,
     "metadata": {},
     "output_type": "execute_result"
    },
    {
     "name": "stdout",
     "output_type": "stream",
     "text": [
      "Please enter the first number: 2\n",
      "Please enter the second number: 3\n",
      "(0, 2)\n"
     ]
    }
   ],
   "source": [
    "# Try out some arithmetic functions here\n",
    "2**5\n",
    "# What does divmod(x,y) do? Get values of x and y from the user and call this function.\n",
    "x = input(\"Please enter the first number: \")\n",
    "y = input(\"Please enter the second number: \")\n",
    "quo = divmod(int(x),int(y))\n",
    "print(quo)\n",
    "#Get radius from the user and caculate the area\n"
   ]
  },
  {
   "cell_type": "code",
   "execution_count": 13,
   "metadata": {},
   "outputs": [
    {
     "name": "stdout",
     "output_type": "stream",
     "text": [
      "Input the radius of the circle: 6\n",
      "The area of the circle with radius 6 is: 113.09733552923255\n"
     ]
    }
   ],
   "source": [
    "#Get radius from the user and caculate the area\n",
    "from math import pi\n",
    "r = input(\"Input the radius of the circle: \")\n",
    "a = pi*float(r)**2\n",
    "print('The area of the circle with radius ' + r + \" is: \" + str(a))"
   ]
  },
  {
   "cell_type": "markdown",
   "metadata": {},
   "source": [
    "Strings: a sequence of characters"
   ]
  },
  {
   "cell_type": "code",
   "execution_count": 14,
   "metadata": {},
   "outputs": [
    {
     "name": "stdout",
     "output_type": "stream",
     "text": [
      "hello, \n",
      "world\n"
     ]
    }
   ],
   "source": [
    "#print a two line sentence using escape character\n",
    "print(\"hello, \\nworld\")\n",
    "\n",
    "#You may concatenate strings together with \"+\". Try concatenate two strings and the arithmetic results of two numbers.\n",
    "#Use variables\n"
   ]
  },
  {
   "cell_type": "markdown",
   "metadata": {},
   "source": [
    "List: a container which holds comma separated values (items or elements) between square brackets where items or elements need not all have the same type."
   ]
  },
  {
   "cell_type": "code",
   "execution_count": 21,
   "metadata": {},
   "outputs": [
    {
     "data": {
      "text/plain": [
       "4"
      ]
     },
     "execution_count": 21,
     "metadata": {},
     "output_type": "execute_result"
    },
    {
     "data": {
      "text/plain": [
       "6"
      ]
     },
     "execution_count": 21,
     "metadata": {},
     "output_type": "execute_result"
    },
    {
     "data": {
      "text/plain": [
       "[3, 4]"
      ]
     },
     "execution_count": 21,
     "metadata": {},
     "output_type": "execute_result"
    },
    {
     "data": {
      "text/plain": [
       "[1, 2, 3, 4, 5]"
      ]
     },
     "execution_count": 21,
     "metadata": {},
     "output_type": "execute_result"
    },
    {
     "data": {
      "text/plain": [
       "[3, 4, 5, 6]"
      ]
     },
     "execution_count": 21,
     "metadata": {},
     "output_type": "execute_result"
    },
    {
     "data": {
      "text/plain": [
       "6"
      ]
     },
     "execution_count": 21,
     "metadata": {},
     "output_type": "execute_result"
    }
   ],
   "source": [
    "#create a list and practice slicing the list\n",
    "mylist = [1,2,3,4,5,6]\n",
    "mylist[3]\n",
    "mylist[-1]\n",
    "mylist[2:4]\n",
    "mylist[:5]\n",
    "mylist[2:]\n",
    "#print out a sublist that picks the second one of every two items\n",
    "len(mylist)"
   ]
  },
  {
   "cell_type": "code",
   "execution_count": 25,
   "metadata": {},
   "outputs": [
    {
     "data": {
      "text/plain": [
       "6"
      ]
     },
     "execution_count": 25,
     "metadata": {},
     "output_type": "execute_result"
    },
    {
     "data": {
      "text/plain": [
       "[1, 3, 5]"
      ]
     },
     "execution_count": 25,
     "metadata": {},
     "output_type": "execute_result"
    }
   ],
   "source": [
    "#print out a sublist that picks the second one of every two items\n",
    "len(mylist)\n",
    "mylist[0:5:2]"
   ]
  },
  {
   "cell_type": "code",
   "execution_count": 6,
   "metadata": {},
   "outputs": [
    {
     "data": {
      "text/plain": [
       "20"
      ]
     },
     "execution_count": 6,
     "metadata": {},
     "output_type": "execute_result"
    },
    {
     "name": "stdout",
     "output_type": "stream",
     "text": [
      "Please enter your question: how old am i\n",
      "Better not tell you now\n"
     ]
    }
   ],
   "source": [
    "# Here we define a list\n",
    "responseList = [\"It is certain\", \"It is decidedly so\", \"Without a doubt\", \"Yes, definitely\", \"You may rely on it\", \n",
    "                \"As I see it, yes\", \"Most likely\", \"Outlook good\", \"Yes\", \"Signs point to yes\", \"Reply hazy try again\", \n",
    "                \"Ask again later\", \"Better not tell you now\", \"Cannot predict now\", \"Concentrate and ask again\", \n",
    "                \"Don't count on it\", \"My reply is no\", \"My sources say no\", \"Outlook not so good\", \"Very doubtful\"]\n",
    "#How many items in this list?\n",
    "len(responseList)\n",
    "#Refer to the elements in the list using the ways on our slides or slice it\n",
    "ques = input(\"Please enter your question: \")\n",
    "answer = len(ques)%len(responseList)\n",
    "print(responseList[answer])"
   ]
  },
  {
   "cell_type": "code",
   "execution_count": 10,
   "metadata": {},
   "outputs": [
    {
     "name": "stdout",
     "output_type": "stream",
     "text": [
      "Enter the question : how will my day be today?\n",
      "Concentrate and ask again\n"
     ]
    }
   ],
   "source": [
    "# Now let's try to create a Magic-8 ball with the responseList. Hint: Magic-8 ball returns an answer when it takes a question\n",
    "# from the user. How can we get a number from the user's question so that we can use it to pick up an answer from the list?\n",
    "# Maybe try the number of characters in the question. Think about the case when length of the question is longer than the list.\n",
    "\n",
    "import random\n",
    "random.shuffle(responseList)\n",
    "x = input(\"Enter the question : \")\n",
    "print(responseList[1])"
   ]
  },
  {
   "cell_type": "code",
   "execution_count": null,
   "metadata": {},
   "outputs": [],
   "source": []
  }
 ],
 "metadata": {
  "kernelspec": {
   "display_name": "Python 3",
   "language": "python",
   "name": "python3"
  },
  "language_info": {
   "codemirror_mode": {
    "name": "ipython",
    "version": 3
   },
   "file_extension": ".py",
   "mimetype": "text/x-python",
   "name": "python",
   "nbconvert_exporter": "python",
   "pygments_lexer": "ipython3",
   "version": "3.7.0"
  }
 },
 "nbformat": 4,
 "nbformat_minor": 2
}
