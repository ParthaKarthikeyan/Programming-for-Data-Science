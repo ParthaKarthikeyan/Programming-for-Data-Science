{
 "cells": [
  {
   "cell_type": "markdown",
   "metadata": {
    "collapsed": true
   },
   "source": [
    "# Programming for Data Science (Python)"
   ]
  },
  {
   "cell_type": "code",
   "execution_count": 10,
   "metadata": {},
   "outputs": [],
   "source": [
    "from IPython.core.interactiveshell import InteractiveShell\n",
    "InteractiveShell.ast_node_interactivity = \"all\""
   ]
  },
  {
   "cell_type": "markdown",
   "metadata": {},
   "source": [
    "<p style=\"font-family: Arial; font-size:1.75em;color:#2462C0; font-style:bold\"><br>\n",
    "\n",
    "Create Rank 1 numpy arrays:\n",
    "</p>"
   ]
  },
  {
   "cell_type": "code",
   "execution_count": 16,
   "metadata": {},
   "outputs": [
    {
     "data": {
      "text/plain": [
       "array([  3,  33, 333])"
      ]
     },
     "execution_count": 16,
     "metadata": {},
     "output_type": "execute_result"
    },
    {
     "data": {
      "text/plain": [
       "numpy.ndarray"
      ]
     },
     "execution_count": 16,
     "metadata": {},
     "output_type": "execute_result"
    }
   ],
   "source": [
    "import numpy as np\n",
    "an_array = np.array([3,33,333])\n",
    "an_array\n",
    "type(an_array)"
   ]
  },
  {
   "cell_type": "code",
   "execution_count": 7,
   "metadata": {
    "scrolled": true
   },
   "outputs": [
    {
     "data": {
      "text/plain": [
       "(3,)"
      ]
     },
     "execution_count": 7,
     "metadata": {},
     "output_type": "execute_result"
    },
    {
     "data": {
      "text/plain": [
       "3"
      ]
     },
     "execution_count": 7,
     "metadata": {},
     "output_type": "execute_result"
    },
    {
     "data": {
      "text/plain": [
       "array([ 88,  33, 333])"
      ]
     },
     "execution_count": 7,
     "metadata": {},
     "output_type": "execute_result"
    }
   ],
   "source": [
    "# test the shape of the array we just created, it should have just one dimension (Rank 1)\n",
    "an_array.shape\n",
    "# because this is a 1-rank array, we need only one index to accesss each element\n",
    "an_array[0]\n",
    "# ndarrays are mutable, here we change an element of the array\n",
    "an_array[0] = 88\n",
    "an_array"
   ]
  },
  {
   "cell_type": "markdown",
   "metadata": {},
   "source": [
    "<p style=\"font-family: Arial; font-size:1.75em;color:#2462C0; font-style:bold\"><br>\n",
    "\n",
    "Create a Rank 2 numpy array:</p>\n",
    "\n",
    "A rank 2 **ndarray** is one with two dimensions.  Notice the format below of [ [row] , [row] ].  2 dimensional arrays are great for representing matrices which are often useful in data science."
   ]
  },
  {
   "cell_type": "code",
   "execution_count": 10,
   "metadata": {},
   "outputs": [
    {
     "data": {
      "text/plain": [
       "array([[11, 12, 13],\n",
       "       [21, 22, 23]])"
      ]
     },
     "execution_count": 10,
     "metadata": {},
     "output_type": "execute_result"
    },
    {
     "data": {
      "text/plain": [
       "(2, 3)"
      ]
     },
     "execution_count": 10,
     "metadata": {},
     "output_type": "execute_result"
    },
    {
     "data": {
      "text/plain": [
       "11"
      ]
     },
     "execution_count": 10,
     "metadata": {},
     "output_type": "execute_result"
    },
    {
     "data": {
      "text/plain": [
       "23"
      ]
     },
     "execution_count": 10,
     "metadata": {},
     "output_type": "execute_result"
    }
   ],
   "source": [
    "# Create a rank 2 array\n",
    "another = np.array([[11,12,13],[21,22,23]])\n",
    "another\n",
    "another.shape\n",
    "another[0,0]\n",
    "another[1,2]"
   ]
  },
  {
   "cell_type": "code",
   "execution_count": 9,
   "metadata": {},
   "outputs": [
    {
     "data": {
      "text/plain": [
       "array([[  3,  33, 333]])"
      ]
     },
     "execution_count": 9,
     "metadata": {},
     "output_type": "execute_result"
    },
    {
     "data": {
      "text/plain": [
       "(1, 3)"
      ]
     },
     "execution_count": 9,
     "metadata": {},
     "output_type": "execute_result"
    }
   ],
   "source": [
    "another2 = np.array([[3,33,333]])\n",
    "another2\n",
    "another2.shape"
   ]
  },
  {
   "cell_type": "markdown",
   "metadata": {},
   "source": [
    "<p style=\"font-family: Arial; font-size:1.75em;color:#2462C0; font-style:bold\"><br>\n",
    "\n",
    "There are many way to create numpy arrays:\n",
    "</p>\n",
    "\n",
    "Here we create a number of different size arrays with different shapes and different pre-filled values.  numpy has a number of built in methods which help us quickly and easily create multidimensional arrays."
   ]
  },
  {
   "cell_type": "code",
   "execution_count": 22,
   "metadata": {},
   "outputs": [
    {
     "data": {
      "text/plain": [
       "array([[0., 0.],\n",
       "       [0., 0.]])"
      ]
     },
     "execution_count": 22,
     "metadata": {},
     "output_type": "execute_result"
    },
    {
     "name": "stdout",
     "output_type": "stream",
     "text": [
      "[[9. 9.]\n",
      " [9. 9.]]\n"
     ]
    },
    {
     "data": {
      "text/plain": [
       "array([[1., 1.]])"
      ]
     },
     "execution_count": 22,
     "metadata": {},
     "output_type": "execute_result"
    }
   ],
   "source": [
    "# create a 2x2 array of zeros\n",
    "ex1 = np.zeros((2,2))\n",
    "ex1\n",
    "# create a 2x2 array filled with 9.0\n",
    "ex2 = np.full((2,2),9.0)\n",
    "print(ex2)\n",
    "# create an array of ones\n",
    "ex3 = np.ones((1,2))\n",
    "ex3\n"
   ]
  },
  {
   "cell_type": "code",
   "execution_count": 14,
   "metadata": {},
   "outputs": [
    {
     "data": {
      "text/plain": [
       "(1, 2)"
      ]
     },
     "execution_count": 14,
     "metadata": {},
     "output_type": "execute_result"
    },
    {
     "data": {
      "text/plain": [
       "1.0"
      ]
     },
     "execution_count": 14,
     "metadata": {},
     "output_type": "execute_result"
    }
   ],
   "source": [
    "# notice that the above ndarray (ex3) is actually rank 2, it is a 2x1 array\n",
    "ex3.shape\n",
    "\n",
    "# which means we need to use two indexes to access an element\n",
    "ex3[0,0]"
   ]
  },
  {
   "cell_type": "code",
   "execution_count": 15,
   "metadata": {
    "scrolled": true
   },
   "outputs": [
    {
     "data": {
      "text/plain": [
       "array([[ 0.29421478,  0.28746733],\n",
       "       [ 0.32953505,  0.82803003]])"
      ]
     },
     "execution_count": 15,
     "metadata": {},
     "output_type": "execute_result"
    }
   ],
   "source": [
    "# create an array of random floats between 0 and 1\n",
    "ex4 = np.random.random((2,2))\n",
    "ex4"
   ]
  },
  {
   "cell_type": "markdown",
   "metadata": {},
   "source": [
    "# Datatypes"
   ]
  },
  {
   "cell_type": "code",
   "execution_count": 16,
   "metadata": {},
   "outputs": [
    {
     "data": {
      "text/plain": [
       "dtype('float64')"
      ]
     },
     "execution_count": 16,
     "metadata": {},
     "output_type": "execute_result"
    }
   ],
   "source": [
    "# Python assigns the  data type\n",
    "ex1.dtype"
   ]
  },
  {
   "cell_type": "code",
   "execution_count": 17,
   "metadata": {},
   "outputs": [
    {
     "data": {
      "text/plain": [
       "dtype('int32')"
      ]
     },
     "execution_count": 17,
     "metadata": {},
     "output_type": "execute_result"
    }
   ],
   "source": [
    "# Python assigns the  data type\n",
    "ex5 = np.array([1,2,3])\n",
    "ex5.dtype"
   ]
  },
  {
   "cell_type": "code",
   "execution_count": 18,
   "metadata": {},
   "outputs": [
    {
     "data": {
      "text/plain": [
       "dtype('int64')"
      ]
     },
     "execution_count": 18,
     "metadata": {},
     "output_type": "execute_result"
    }
   ],
   "source": [
    "#You can also tell Python the  data type\n",
    "ex5 = np.array([1,2,3], dtype = np.int64)\n",
    "ex5.dtype"
   ]
  },
  {
   "cell_type": "code",
   "execution_count": 19,
   "metadata": {},
   "outputs": [
    {
     "data": {
      "text/plain": [
       "array([1, 2, 3], dtype=int64)"
      ]
     },
     "execution_count": 19,
     "metadata": {},
     "output_type": "execute_result"
    }
   ],
   "source": [
    "# you can use this to force floats into integers (using floor function)\n",
    "ex6 = np.array([1.5,2.2,3.8], dtype = np.int64)\n",
    "ex6"
   ]
  },
  {
   "cell_type": "code",
   "execution_count": null,
   "metadata": {
    "collapsed": true
   },
   "outputs": [],
   "source": [
    "# you can use this to force integers into floats if you anticipate\n",
    "# the values may change to floats later\n"
   ]
  },
  {
   "cell_type": "markdown",
   "metadata": {},
   "source": [
    "# Array Indexing"
   ]
  },
  {
   "cell_type": "markdown",
   "metadata": {},
   "source": [
    "<p style=\"font-family: Arial; font-size:1.75em;color:#2462C0; font-style:bold\"><br>\n",
    "Slice indexing:\n",
    "</p>\n",
    "\n",
    "Similar to the use of slice indexing with lists and strings, we can use slice indexing to pull out sub-regions of ndarrays."
   ]
  },
  {
   "cell_type": "code",
   "execution_count": 30,
   "metadata": {},
   "outputs": [
    {
     "data": {
      "text/plain": [
       "array([[11, 12, 13, 14],\n",
       "       [21, 22, 23, 24],\n",
       "       [31, 32, 33, 34]])"
      ]
     },
     "execution_count": 30,
     "metadata": {},
     "output_type": "execute_result"
    },
    {
     "data": {
      "text/plain": [
       "array([[12, 13],\n",
       "       [22, 23]])"
      ]
     },
     "execution_count": 30,
     "metadata": {},
     "output_type": "execute_result"
    },
    {
     "name": "stdout",
     "output_type": "stream",
     "text": [
      "before:  12\n",
      "after:  1000\n"
     ]
    }
   ],
   "source": [
    "# Rank 2 array of shape (3, 4)\n",
    "an_array = np.array([[11,12,13,14],[21,22,23,24],[31,32,33,34]])\n",
    "an_array\n",
    "#Use array slicing to get a subarray consisting of 2 rows x 2 columns.\n",
    "a_slice = an_array[:2,1:3]\n",
    "a_slice\n",
    "#When you modify a slice, you actually modify the underlying array.\n",
    "print(\"before: \", an_array[0,1])\n",
    "a_slice[0,0] = 1000\n",
    "print(\"after: \", an_array[0,1])\n",
    "#To avoid that, you need to explicitly use the np.array()function.\n",
    "another_slice = np.array(an_array[:2,1:3])"
   ]
  },
  {
   "cell_type": "code",
   "execution_count": 38,
   "metadata": {},
   "outputs": [
    {
     "data": {
      "text/plain": [
       "array([[  11, 1000,   13,   14],\n",
       "       [  21,   22,   23,   24]])"
      ]
     },
     "execution_count": 38,
     "metadata": {},
     "output_type": "execute_result"
    }
   ],
   "source": []
  },
  {
   "cell_type": "code",
   "execution_count": 40,
   "metadata": {},
   "outputs": [
    {
     "data": {
      "text/plain": [
       "(4,)"
      ]
     },
     "execution_count": 40,
     "metadata": {},
     "output_type": "execute_result"
    },
    {
     "data": {
      "text/plain": [
       "array([21, 22, 23, 24])"
      ]
     },
     "execution_count": 40,
     "metadata": {},
     "output_type": "execute_result"
    },
    {
     "data": {
      "text/plain": [
       "(2, 4)"
      ]
     },
     "execution_count": 40,
     "metadata": {},
     "output_type": "execute_result"
    },
    {
     "data": {
      "text/plain": [
       "array([[  11, 1000,   13,   14],\n",
       "       [  21,   22,   23,   24]])"
      ]
     },
     "execution_count": 40,
     "metadata": {},
     "output_type": "execute_result"
    }
   ],
   "source": [
    "# You may generate an array of lower rank\n",
    "row_rank1 = an_array[1]\n",
    "row_rank1.shape\n",
    "row_rank1\n",
    "# Or an array of the same rank as the an_array\n",
    "row_rank2= an_array[:2,:]\n",
    "row_rank2.shape\n",
    "row_rank2\n",
    "#We can do the same thing for columns of an array:\n",
    "\n"
   ]
  },
  {
   "cell_type": "markdown",
   "metadata": {},
   "source": [
    "# Fancy indexing: array of indices"
   ]
  },
  {
   "cell_type": "markdown",
   "metadata": {},
   "source": [
    "Sometimes it's useful to use an array of indexes to access or change elements."
   ]
  },
  {
   "cell_type": "code",
   "execution_count": 25,
   "metadata": {},
   "outputs": [
    {
     "data": {
      "text/plain": [
       "array([[11, 12, 13],\n",
       "       [21, 22, 23],\n",
       "       [31, 32, 33],\n",
       "       [41, 42, 43]])"
      ]
     },
     "execution_count": 25,
     "metadata": {},
     "output_type": "execute_result"
    }
   ],
   "source": [
    "# Create a new array\n",
    "array1 = np.array([[11,12,13],[21,22,23],[31,32,33],[41,42,43]])\n",
    "array1"
   ]
  },
  {
   "cell_type": "code",
   "execution_count": 26,
   "metadata": {
    "collapsed": true
   },
   "outputs": [],
   "source": [
    "# Create an array of indices\n",
    "col_indices = np.array([0,1,2,0])\n",
    "row_indices = np.arange(4)"
   ]
  },
  {
   "cell_type": "code",
   "execution_count": 27,
   "metadata": {},
   "outputs": [
    {
     "name": "stdout",
     "output_type": "stream",
     "text": [
      "0 ,  0\n",
      "1 ,  1\n",
      "2 ,  2\n",
      "3 ,  0\n"
     ]
    }
   ],
   "source": [
    "# Examine the pairings of row_indices and col_indices.  These are the elements we'll change next.\n",
    "for row, col in zip(row_indices, col_indices):\n",
    "    print(row, ', ',col)"
   ]
  },
  {
   "cell_type": "code",
   "execution_count": 28,
   "metadata": {},
   "outputs": [
    {
     "name": "stdout",
     "output_type": "stream",
     "text": [
      "[11 22 33 41]\n"
     ]
    }
   ],
   "source": [
    "# Select one element from each row\n",
    "print(array1[row_indices, col_indices])"
   ]
  },
  {
   "cell_type": "code",
   "execution_count": 29,
   "metadata": {},
   "outputs": [
    {
     "data": {
      "text/plain": [
       "array([[1011,   12,   13],\n",
       "       [  21, 1022,   23],\n",
       "       [  31,   32, 1033],\n",
       "       [1041,   42,   43]])"
      ]
     },
     "execution_count": 29,
     "metadata": {},
     "output_type": "execute_result"
    }
   ],
   "source": [
    "# Change one element from each row using the indices selected\n",
    "array1[row_indices, col_indices]+=1000\n",
    "array1"
   ]
  },
  {
   "cell_type": "markdown",
   "metadata": {},
   "source": [
    "# Boolean Indexing"
   ]
  },
  {
   "cell_type": "code",
   "execution_count": 30,
   "metadata": {},
   "outputs": [
    {
     "data": {
      "text/plain": [
       "array([[ True, False, False],\n",
       "       [ True,  True,  True],\n",
       "       [ True,  True,  True],\n",
       "       [ True,  True,  True]], dtype=bool)"
      ]
     },
     "execution_count": 30,
     "metadata": {},
     "output_type": "execute_result"
    }
   ],
   "source": [
    "# create a filter which will be boolean values for whether each element meets this condition\n",
    "filter = (array1 > 15)\n",
    "filter"
   ]
  },
  {
   "cell_type": "markdown",
   "metadata": {},
   "source": [
    "Notice that the filter is a same size ndarray as an_array which is filled with True for each element whose corresponding element in an_array which is greater than 15 and False for those elements whose value is less than 15."
   ]
  },
  {
   "cell_type": "code",
   "execution_count": 31,
   "metadata": {},
   "outputs": [
    {
     "name": "stdout",
     "output_type": "stream",
     "text": [
      "[1011   21 1022   23   31   32 1033 1041   42   43]\n"
     ]
    }
   ],
   "source": [
    "# we can now select just those elements which meet that criteria\n",
    "print(array1[filter])"
   ]
  },
  {
   "cell_type": "code",
   "execution_count": 33,
   "metadata": {},
   "outputs": [
    {
     "data": {
      "text/plain": [
       "array([  12, 1022,   32,   42])"
      ]
     },
     "execution_count": 33,
     "metadata": {},
     "output_type": "execute_result"
    }
   ],
   "source": [
    "# For short, we could have just used the approach below without the need for the separate filter array.\n",
    "array1[array1%2 == 0]"
   ]
  },
  {
   "cell_type": "markdown",
   "metadata": {},
   "source": [
    "What is particularly useful is that we can actually change elements in the array applying a similar logical filter.  Let's add 100 to all the even values."
   ]
  },
  {
   "cell_type": "code",
   "execution_count": 34,
   "metadata": {},
   "outputs": [
    {
     "data": {
      "text/plain": [
       "array([[1011,  112,   13],\n",
       "       [  21, 1122,   23],\n",
       "       [  31,  132, 1033],\n",
       "       [1041,  142,   43]])"
      ]
     },
     "execution_count": 34,
     "metadata": {},
     "output_type": "execute_result"
    }
   ],
   "source": [
    "array1[array1%2 == 0]+=100\n",
    "array1"
   ]
  },
  {
   "cell_type": "markdown",
   "metadata": {},
   "source": [
    "# Arithmetic Array Operations:\n"
   ]
  },
  {
   "cell_type": "code",
   "execution_count": 41,
   "metadata": {},
   "outputs": [
    {
     "data": {
      "text/plain": [
       "array([[ 1,  2],\n",
       "       [12, 22]])"
      ]
     },
     "execution_count": 41,
     "metadata": {},
     "output_type": "execute_result"
    },
    {
     "data": {
      "text/plain": [
       "array([[21.1, 22.1],\n",
       "       [ 1.1,  2.1]])"
      ]
     },
     "execution_count": 41,
     "metadata": {},
     "output_type": "execute_result"
    }
   ],
   "source": [
    "x = np.array([[1,2],[12,22]], dtype=np.int)\n",
    "y = np.array([[21.1,22.1],[1.1,2.1]], dtype=np.float64)\n",
    "x\n",
    "y"
   ]
  },
  {
   "cell_type": "code",
   "execution_count": 36,
   "metadata": {},
   "outputs": [
    {
     "name": "stdout",
     "output_type": "stream",
     "text": [
      "[[ 22.1  24.1]\n",
      " [ 13.1  24.1]]\n",
      "[[ 22.1  24.1]\n",
      " [ 13.1  24.1]]\n"
     ]
    }
   ],
   "source": [
    "#plus\n",
    "print(x+y)\n",
    "print(np.add(x,y))"
   ]
  },
  {
   "cell_type": "code",
   "execution_count": 37,
   "metadata": {},
   "outputs": [
    {
     "name": "stdout",
     "output_type": "stream",
     "text": [
      "[[-20.1 -20.1]\n",
      " [ 10.9  19.9]]\n",
      "[[-20.1 -20.1]\n",
      " [ 10.9  19.9]]\n"
     ]
    }
   ],
   "source": [
    "# subtract\n",
    "print(x-y)\n",
    "print(np.subtract(x,y))"
   ]
  },
  {
   "cell_type": "code",
   "execution_count": 38,
   "metadata": {},
   "outputs": [
    {
     "name": "stdout",
     "output_type": "stream",
     "text": [
      "[[ 21.1  44.2]\n",
      " [ 13.2  46.2]]\n",
      "[[ 21.1  44.2]\n",
      " [ 13.2  46.2]]\n"
     ]
    }
   ],
   "source": [
    "# multiply\n",
    "print(x*y)\n",
    "print(np.multiply(x,y))"
   ]
  },
  {
   "cell_type": "code",
   "execution_count": 39,
   "metadata": {},
   "outputs": [
    {
     "name": "stdout",
     "output_type": "stream",
     "text": [
      "[[  0.04739336   0.09049774]\n",
      " [ 10.90909091  10.47619048]]\n",
      "[[  0.04739336   0.09049774]\n",
      " [ 10.90909091  10.47619048]]\n"
     ]
    }
   ],
   "source": [
    "# divide\n",
    "print(x/y)\n",
    "print(np.divide(x,y))"
   ]
  },
  {
   "cell_type": "code",
   "execution_count": 40,
   "metadata": {},
   "outputs": [
    {
     "name": "stdout",
     "output_type": "stream",
     "text": [
      "[[ 1.          1.41421356]\n",
      " [ 3.46410162  4.69041576]]\n"
     ]
    }
   ],
   "source": [
    "# square root\n",
    "print(np.sqrt(x))"
   ]
  },
  {
   "cell_type": "code",
   "execution_count": 41,
   "metadata": {},
   "outputs": [
    {
     "name": "stdout",
     "output_type": "stream",
     "text": [
      "[[  2.71828183e+00   7.38905610e+00]\n",
      " [  1.62754791e+05   3.58491285e+09]]\n"
     ]
    }
   ],
   "source": [
    "# exponent (e ** x)\n",
    "print(np.exp(x))"
   ]
  },
  {
   "cell_type": "markdown",
   "metadata": {},
   "source": [
    "<p style=\"font-family: Arial; font-size:1.75em;color:#2462C0; font-style:bold\"><br>\n",
    "\n",
    "Let's explore the efficiency of universal functions\n",
    "\n",
    "</p>"
   ]
  },
  {
   "cell_type": "code",
   "execution_count": 42,
   "metadata": {},
   "outputs": [
    {
     "data": {
      "text/plain": [
       "array([ 0.16666667,  1.        ,  0.25      ,  0.25      ,  0.125     ])"
      ]
     },
     "execution_count": 42,
     "metadata": {},
     "output_type": "execute_result"
    }
   ],
   "source": [
    "# Using loop to compute the reciprocal of each element of an array\n",
    "np.random.seed(0)\n",
    "def compute_reciprocals(values):\n",
    "    output = np.empty(len(values))\n",
    "    for i in range(len(values)):\n",
    "        output[i]=1.0/values[i]\n",
    "    return output\n",
    "\n",
    "rarray = np.random.randint(1,10,size = 5)\n",
    "compute_reciprocals(rarray)"
   ]
  },
  {
   "cell_type": "code",
   "execution_count": 43,
   "metadata": {
    "scrolled": true
   },
   "outputs": [
    {
     "name": "stdout",
     "output_type": "stream",
     "text": [
      "Wall time: 1.27 s\n"
     ]
    },
    {
     "data": {
      "text/plain": [
       "array([ 0.1       ,  0.01190476,  0.04545455, ...,  0.01428571,\n",
       "        0.01098901,  0.01149425])"
      ]
     },
     "execution_count": 43,
     "metadata": {},
     "output_type": "execute_result"
    }
   ],
   "source": [
    "big_array = np.random.randint(1,100,size = 1000000)\n",
    "%time compute_reciprocals(big_array)"
   ]
  },
  {
   "cell_type": "code",
   "execution_count": 44,
   "metadata": {},
   "outputs": [
    {
     "name": "stdout",
     "output_type": "stream",
     "text": [
      "Wall time: 0 ns\n"
     ]
    },
    {
     "data": {
      "text/plain": [
       "array([ 0.1       ,  0.01190476,  0.04545455, ...,  0.01428571,\n",
       "        0.01098901,  0.01149425])"
      ]
     },
     "execution_count": 44,
     "metadata": {},
     "output_type": "execute_result"
    }
   ],
   "source": [
    "%time (1/big_array)"
   ]
  },
  {
   "cell_type": "code",
   "execution_count": null,
   "metadata": {
    "collapsed": true
   },
   "outputs": [],
   "source": [
    "numbers = [1,2,3,4,5,45,67,69]\n",
    "count_even = 0\n",
    "count_odd = 0\n",
    "for i in numbers:\n",
    "    if i%2 == 0:\n",
    "        count_even += 1\n",
    "    else:\n",
    "        count_odd += 1"
   ]
  },
  {
   "cell_type": "markdown",
   "metadata": {},
   "source": [
    "# Aggregation functions"
   ]
  },
  {
   "cell_type": "code",
   "execution_count": 43,
   "metadata": {},
   "outputs": [
    {
     "data": {
      "text/plain": [
       "array([[ 0.72435371,  1.27860881, -0.58547408,  1.56909645],\n",
       "       [-0.62421091,  0.12853309,  0.54162094,  0.96211669]])"
      ]
     },
     "execution_count": 43,
     "metadata": {},
     "output_type": "execute_result"
    }
   ],
   "source": [
    "# setup a random 2 x 4 matrix\n",
    "array2 = np.random.randn(2,4)\n",
    "array2"
   ]
  },
  {
   "cell_type": "code",
   "execution_count": 47,
   "metadata": {},
   "outputs": [
    {
     "data": {
      "text/plain": [
       "0.30422290864076057"
      ]
     },
     "execution_count": 47,
     "metadata": {},
     "output_type": "execute_result"
    }
   ],
   "source": [
    "# compute the mean for all elements\n",
    "array2.mean()"
   ]
  },
  {
   "cell_type": "code",
   "execution_count": 49,
   "metadata": {},
   "outputs": [
    {
     "data": {
      "text/plain": [
       "array([ 0.45894956,  0.14949626])"
      ]
     },
     "execution_count": 49,
     "metadata": {},
     "output_type": "execute_result"
    }
   ],
   "source": [
    "# compute the means by row\n",
    "array2.mean(axis = 1)"
   ]
  },
  {
   "cell_type": "code",
   "execution_count": 50,
   "metadata": {},
   "outputs": [
    {
     "data": {
      "text/plain": [
       "array([ 1.00142515,  0.40591398,  0.41043206, -0.60087955])"
      ]
     },
     "execution_count": 50,
     "metadata": {},
     "output_type": "execute_result"
    }
   ],
   "source": [
    "# compute the means by column\n",
    "array2.mean(axis = 0)"
   ]
  },
  {
   "cell_type": "code",
   "execution_count": 44,
   "metadata": {},
   "outputs": [
    {
     "data": {
      "text/plain": [
       "3.994644697387896"
      ]
     },
     "execution_count": 44,
     "metadata": {},
     "output_type": "execute_result"
    }
   ],
   "source": [
    "# sum all the elements\n",
    "array2.sum()"
   ]
  },
  {
   "cell_type": "code",
   "execution_count": 51,
   "metadata": {},
   "outputs": [
    {
     "data": {
      "text/plain": [
       "array([ 0.47104397,  0.11887716])"
      ]
     },
     "execution_count": 51,
     "metadata": {},
     "output_type": "execute_result"
    }
   ],
   "source": [
    "# compute the medians\n",
    "np.median(array2, axis = 1)"
   ]
  },
  {
   "cell_type": "code",
   "execution_count": 45,
   "metadata": {},
   "outputs": [
    {
     "data": {
      "text/plain": [
       "array([ 0.0500714 ,  0.70357095, -0.02192657,  1.26560657])"
      ]
     },
     "execution_count": 45,
     "metadata": {},
     "output_type": "execute_result"
    }
   ],
   "source": [
    "np.median(array2, axis = 0)"
   ]
  },
  {
   "cell_type": "code",
   "execution_count": 52,
   "metadata": {},
   "outputs": [
    {
     "name": "stdout",
     "output_type": "stream",
     "text": [
      "[-0.81585044 -0.09495964 -0.11991924 -1.27360037 -0.20817263 -1.00912111\n",
      " -1.60382836 -1.22308313  0.42019376  0.49824839]\n",
      "[-1.60382836 -1.27360037 -1.22308313 -1.00912111 -0.81585044 -0.20817263\n",
      " -0.11991924 -0.09495964  0.42019376  0.49824839]\n"
     ]
    }
   ],
   "source": [
    "#sorting\n",
    "# create a 10 element array of randoms\n",
    "array3 = np.random.randn(10)\n",
    "print(array3)\n",
    "array3.sort()\n",
    "print(array3)"
   ]
  },
  {
   "cell_type": "code",
   "execution_count": 53,
   "metadata": {},
   "outputs": [
    {
     "data": {
      "text/plain": [
       "array([1, 2, 4, 5])"
      ]
     },
     "execution_count": 53,
     "metadata": {},
     "output_type": "execute_result"
    }
   ],
   "source": [
    "#Find unique elements\n",
    "array4 = np.array([1,2,4,5,2,4,5])\n",
    "np.unique(array4)"
   ]
  },
  {
   "cell_type": "markdown",
   "metadata": {},
   "source": [
    "# Broadcasting:"
   ]
  },
  {
   "cell_type": "markdown",
   "metadata": {},
   "source": [
    "Introduction to broadcasting. <br>\n",
    "For more details, please see: <br>\n",
    "https://docs.scipy.org/doc/numpy-1.10.1/user/basics.broadcasting.html"
   ]
  },
  {
   "cell_type": "code",
   "execution_count": 55,
   "metadata": {},
   "outputs": [
    {
     "data": {
      "text/plain": [
       "array([[ 0.,  0.,  0.],\n",
       "       [ 0.,  0.,  0.],\n",
       "       [ 0.,  0.,  0.],\n",
       "       [ 0.,  0.,  0.]])"
      ]
     },
     "execution_count": 55,
     "metadata": {},
     "output_type": "execute_result"
    }
   ],
   "source": [
    "#Create a 4X3 array\n",
    "start = np.zeros((4,3))\n",
    "start"
   ]
  },
  {
   "cell_type": "code",
   "execution_count": 56,
   "metadata": {},
   "outputs": [
    {
     "data": {
      "text/plain": [
       "(3,)"
      ]
     },
     "execution_count": 56,
     "metadata": {},
     "output_type": "execute_result"
    }
   ],
   "source": [
    "# create a rank 1 ndarray with 3 values\n",
    "add_rows = np.array([1,0,2])\n",
    "add_rows.shape"
   ]
  },
  {
   "cell_type": "code",
   "execution_count": 57,
   "metadata": {},
   "outputs": [
    {
     "data": {
      "text/plain": [
       "array([[ 1.,  0.,  2.],\n",
       "       [ 1.,  0.,  2.],\n",
       "       [ 1.,  0.,  2.],\n",
       "       [ 1.,  0.,  2.]])"
      ]
     },
     "execution_count": 57,
     "metadata": {},
     "output_type": "execute_result"
    }
   ],
   "source": [
    "#Add together\n",
    "y = start+add_rows\n",
    "y"
   ]
  },
  {
   "cell_type": "code",
   "execution_count": 58,
   "metadata": {},
   "outputs": [
    {
     "data": {
      "text/plain": [
       "array([[0],\n",
       "       [1],\n",
       "       [2],\n",
       "       [3]])"
      ]
     },
     "execution_count": 58,
     "metadata": {},
     "output_type": "execute_result"
    }
   ],
   "source": [
    "# create an ndarray which is 4 x 1 to broadcast across columns\n",
    "add_cols = np.array([[0,1,2,3]])\n",
    "add_cols = add_cols.transpose()\n",
    "add_cols"
   ]
  },
  {
   "cell_type": "code",
   "execution_count": 59,
   "metadata": {},
   "outputs": [
    {
     "data": {
      "text/plain": [
       "array([[ 0.,  0.,  0.],\n",
       "       [ 1.,  1.,  1.],\n",
       "       [ 2.,  2.,  2.],\n",
       "       [ 3.,  3.,  3.]])"
      ]
     },
     "execution_count": 59,
     "metadata": {},
     "output_type": "execute_result"
    }
   ],
   "source": [
    "# add to each column of 'start' using broadcasting\n",
    "y = start + add_cols\n",
    "y"
   ]
  },
  {
   "cell_type": "code",
   "execution_count": 60,
   "metadata": {},
   "outputs": [
    {
     "name": "stdout",
     "output_type": "stream",
     "text": [
      "[[ 1.  1.  1.]\n",
      " [ 1.  1.  1.]\n",
      " [ 1.  1.  1.]\n",
      " [ 1.  1.  1.]]\n"
     ]
    }
   ],
   "source": [
    "# this will just broadcast in both dimensions\n",
    "add_scalar = np.array([1])\n",
    "print(start+add_scalar)"
   ]
  },
  {
   "cell_type": "code",
   "execution_count": 62,
   "metadata": {},
   "outputs": [
    {
     "data": {
      "text/plain": [
       "array([[ 0.,  0.,  0.,  0.],\n",
       "       [ 0.,  0.,  0.,  0.],\n",
       "       [ 0.,  0.,  0.,  0.]])"
      ]
     },
     "execution_count": 62,
     "metadata": {},
     "output_type": "execute_result"
    }
   ],
   "source": [
    "# create our 3x4 matrix\n",
    "start1 = np.zeros((3,4))\n",
    "start1"
   ]
  },
  {
   "cell_type": "code",
   "execution_count": 63,
   "metadata": {},
   "outputs": [
    {
     "data": {
      "text/plain": [
       "array([1, 2, 3, 4])"
      ]
     },
     "execution_count": 63,
     "metadata": {},
     "output_type": "execute_result"
    }
   ],
   "source": [
    "# create our (4,) array\n",
    "addA = np.array([1,2,3,4])\n",
    "addA"
   ]
  },
  {
   "cell_type": "code",
   "execution_count": 64,
   "metadata": {},
   "outputs": [
    {
     "data": {
      "text/plain": [
       "array([[ 1.,  2.,  3.,  4.],\n",
       "       [ 1.,  2.,  3.,  4.],\n",
       "       [ 1.,  2.,  3.,  4.]])"
      ]
     },
     "execution_count": 64,
     "metadata": {},
     "output_type": "execute_result"
    }
   ],
   "source": [
    "# add the two together using broadcasting\n",
    "b = start1+addA\n",
    "b"
   ]
  },
  {
   "cell_type": "code",
   "execution_count": 65,
   "metadata": {},
   "outputs": [
    {
     "data": {
      "text/plain": [
       "array([ 0.6888451 ,  0.42462478,  0.60378153])"
      ]
     },
     "execution_count": 65,
     "metadata": {},
     "output_type": "execute_result"
    },
    {
     "data": {
      "text/plain": [
       "array([[ 0.30220871, -0.14324592, -0.58612966],\n",
       "       [-0.0328593 ,  0.19302938, -0.4240501 ],\n",
       "       [ 0.15865028,  0.04357788,  0.37080955],\n",
       "       [-0.08581491, -0.11252546,  0.02627851],\n",
       "       [ 0.25108006, -0.05571031,  0.26354846],\n",
       "       [-0.23775539,  0.25351349,  0.2185732 ],\n",
       "       [-0.47146868, -0.21004024,  0.15309102],\n",
       "       [ 0.2031229 ,  0.49359209,  0.25567847],\n",
       "       [-0.18165762, -0.31801883,  0.03716178],\n",
       "       [ 0.09449395, -0.14417208, -0.31496123]])"
      ]
     },
     "execution_count": 65,
     "metadata": {},
     "output_type": "execute_result"
    }
   ],
   "source": [
    "#Application of broadcasting - centering an array\n",
    "X = np.random.random((10,3))\n",
    "Xmean = X.mean(axis = 0)\n",
    "Xmean\n",
    "X_centered = X-Xmean\n",
    "X_centered"
   ]
  }
 ],
 "metadata": {
  "kernelspec": {
   "display_name": "Python 3",
   "language": "python",
   "name": "python3"
  },
  "language_info": {
   "codemirror_mode": {
    "name": "ipython",
    "version": 3
   },
   "file_extension": ".py",
   "mimetype": "text/x-python",
   "name": "python",
   "nbconvert_exporter": "python",
   "pygments_lexer": "ipython3",
   "version": "3.7.0"
  }
 },
 "nbformat": 4,
 "nbformat_minor": 2
}
