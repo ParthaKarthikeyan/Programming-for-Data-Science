{
 "cells": [
  {
   "cell_type": "markdown",
   "metadata": {
    "collapsed": true
   },
   "source": [
    "# Programming for Data Science (Python)"
   ]
  },
  {
   "cell_type": "code",
   "execution_count": 42,
   "metadata": {
    "collapsed": true
   },
   "outputs": [],
   "source": [
    "from IPython.core.interactiveshell import InteractiveShell\n",
    "InteractiveShell.ast_node_interactivity = \"all\""
   ]
  },
  {
   "cell_type": "markdown",
   "metadata": {},
   "source": [
    "### Useful string functions"
   ]
  },
  {
   "cell_type": "code",
   "execution_count": 5,
   "metadata": {},
   "outputs": [
    {
     "name": "stdout",
     "output_type": "stream",
     "text": [
      "Enter your age: \n",
      "hi\n",
      "please enter number only\n",
      "Enter your age: \n",
      "12\n"
     ]
    }
   ],
   "source": [
    "# isX to validate input\n",
    "while True:\n",
    "    print('Enter your age: ')\n",
    "    age = input()\n",
    "    if age.isnumeric():\n",
    "        break\n",
    "    else:\n",
    "        print(\"please enter number only\")"
   ]
  },
  {
   "cell_type": "code",
   "execution_count": 6,
   "metadata": {},
   "outputs": [],
   "source": [
    "str1='1,2,3,4,5'\n",
    "list1 = str1.split(',')\n",
    "#list1 = [int(i) for i in list1]"
   ]
  },
  {
   "cell_type": "code",
   "execution_count": 7,
   "metadata": {},
   "outputs": [
    {
     "data": {
      "text/plain": [
       "'1-2-3-4-5'"
      ]
     },
     "execution_count": 7,
     "metadata": {},
     "output_type": "execute_result"
    }
   ],
   "source": [
    "#join() vs split()\n",
    "\"-\".join(list1)"
   ]
  },
  {
   "cell_type": "markdown",
   "metadata": {},
   "source": [
    "### Regular expressions"
   ]
  },
  {
   "cell_type": "code",
   "execution_count": 8,
   "metadata": {},
   "outputs": [],
   "source": [
    "#Find phone number in the format of XXX-XXX-XXXX\n",
    "def isPhonenumber(text):\n",
    "    if len(text) != 12:\n",
    "        return False\n",
    "    for i in range(0,3):\n",
    "        if not text[i].isnumeric():\n",
    "            return False\n",
    "    if text[3] != '-':\n",
    "        return False\n",
    "    for i in range(4,7):\n",
    "        if not text[i].isnumeric():\n",
    "            return False\n",
    "    if text[7] != '-':\n",
    "        return False\n",
    "    for i in range(8,12):\n",
    "        if not text[i].isnumeric():\n",
    "            return False\n",
    "    return True"
   ]
  },
  {
   "cell_type": "code",
   "execution_count": 9,
   "metadata": {},
   "outputs": [
    {
     "name": "stdout",
     "output_type": "stream",
     "text": [
      "['415-555-1011', '415-555-9999']\n"
     ]
    }
   ],
   "source": [
    "# To find phone numbers in a string using the isPhoneNumber function\n",
    "\n",
    "message = \"Call me at 415-555-1011 tomorrow. 415-555-9999 is my office.\"\n",
    "phonenumbers = []\n",
    "for i in range(len(message)):\n",
    "    chunk = message[i:i+12]\n",
    "    if isPhonenumber(chunk):\n",
    "        phonenumbers.append(chunk)        \n",
    "print(phonenumbers)"
   ]
  },
  {
   "cell_type": "code",
   "execution_count": 10,
   "metadata": {},
   "outputs": [
    {
     "data": {
      "text/plain": [
       "['415-555-1011', '415-555-9999']"
      ]
     },
     "execution_count": 10,
     "metadata": {},
     "output_type": "execute_result"
    }
   ],
   "source": [
    "#Using regular expressions\n",
    "import re\n",
    "phoneNumregex = re.compile(r'\\d\\d\\d-\\d\\d\\d-\\d\\d\\d\\d') #\\d{3}-\\d{3}-\\d{4}\n",
    "phoneNumregex.findall(\"Call me at 415-555-1011 tomorrow. 415-555-9999 is my office.\")"
   ]
  },
  {
   "cell_type": "code",
   "execution_count": 11,
   "metadata": {},
   "outputs": [
    {
     "data": {
      "text/plain": [
       "['415.555.1011']"
      ]
     },
     "execution_count": 11,
     "metadata": {},
     "output_type": "execute_result"
    }
   ],
   "source": [
    "#What about a phone number formatted like 415.555.4242?\n",
    "phoneNumregex = re.compile(r'\\d\\d\\d\\.\\d\\d\\d\\.\\d\\d\\d\\d') #\\d{3}-\\d{3}-\\d{4}\n",
    "phoneNumregex.findall(\"Call me at 415.555.1011 tomorrow. 415-555-9999 is my office.\")"
   ]
  },
  {
   "cell_type": "code",
   "execution_count": 12,
   "metadata": {},
   "outputs": [
    {
     "data": {
      "text/plain": [
       "['cat', 'hat', 'sat', 'lat', 'mat']"
      ]
     },
     "execution_count": 12,
     "metadata": {},
     "output_type": "execute_result"
    }
   ],
   "source": [
    "# '.' as wildcard character\n",
    "atRegex = re.compile(r'.at')\n",
    "atRegex.findall('The cat in the hat sat on the flat mat.')"
   ]
  },
  {
   "cell_type": "code",
   "execution_count": 13,
   "metadata": {},
   "outputs": [
    {
     "data": {
      "text/plain": [
       "['(415) 555-1011']"
      ]
     },
     "execution_count": 13,
     "metadata": {},
     "output_type": "execute_result"
    }
   ],
   "source": [
    "#or (415) 555-4242?\n",
    "phoneNumregex = re.compile(r'\\(\\d\\d\\d\\) \\d\\d\\d\\-\\d\\d\\d\\d') #\\d{3}-\\d{3}-\\d{4}\n",
    "phoneNumregex.findall(\"Call me at (415) 555-1011 tomorrow. 415-555-9999 is my office.\")"
   ]
  },
  {
   "cell_type": "code",
   "execution_count": 14,
   "metadata": {},
   "outputs": [
    {
     "data": {
      "text/plain": [
       "' 555-4242'"
      ]
     },
     "execution_count": 14,
     "metadata": {},
     "output_type": "execute_result"
    }
   ],
   "source": [
    "# if the area code is optional\n",
    "phoneNumregex = re.compile(r'(\\d{3})? \\d{3}-\\d{4}')\n",
    "mo = phoneNumregex.search('My number is 555-4242')\n",
    "mo.group()"
   ]
  },
  {
   "cell_type": "code",
   "execution_count": 15,
   "metadata": {},
   "outputs": [
    {
     "data": {
      "text/plain": [
       "[('415', '555', '1011'), ('415', '555', '9999')]"
      ]
     },
     "execution_count": 15,
     "metadata": {},
     "output_type": "execute_result"
    }
   ],
   "source": [
    "phoneNumregex = re.compile(r'(\\d\\d\\d)-(\\d\\d\\d)-(\\d\\d\\d\\d)') #\\d{3}-\\d{3}-\\d{4}\n",
    "phoneNumregex.findall(\"Call me at 415-555-1011 tomorrow. 415-555-9999 is my office.\")"
   ]
  },
  {
   "cell_type": "code",
   "execution_count": 16,
   "metadata": {},
   "outputs": [
    {
     "data": {
      "text/plain": [
       "'yes'"
      ]
     },
     "execution_count": 16,
     "metadata": {},
     "output_type": "execute_result"
    }
   ],
   "source": [
    "#create a tuple\n",
    "tuplex = (4,5,6,6,4,7)\n",
    "#tuples are immutable, so you can not add new elements\n",
    "#using merge of tuples with the + operator you can add an element and it will create a new tuple\n",
    "tuplex = tuplex + (9,)\n",
    "tuplex\n",
    "#adding items in a specific index\n",
    "tuplex = tuplex[:4] + (9,)+tuplex[4:]\n",
    "tuplex\n",
    "#converting the tuple to list\n",
    "listx = list(tuplex)\n",
    "#use different ways to add items in list\n",
    "tuplex = tuple(listx)\n",
    "#convert tuple to a string\n",
    "tup = ('y','e','s')\n",
    "str1 = ''.join(tup)\n",
    "str1"
   ]
  },
  {
   "cell_type": "code",
   "execution_count": 17,
   "metadata": {
    "scrolled": true
   },
   "outputs": [
    {
     "data": {
      "text/plain": [
       "{0, 1, 2, 4, 5, 8, 9}"
      ]
     },
     "execution_count": 17,
     "metadata": {},
     "output_type": "execute_result"
    }
   ],
   "source": [
    "#Create a new empty set \n",
    "x = set()\n",
    "#Create a non empty set\n",
    "x = set([0,1,2,4])\n",
    "#to add elements to a set\n",
    "#A new empty set\n",
    "x.add(5)\n",
    "x\n",
    "#Add multiple items\n",
    "x.update([8,9])\n",
    "x"
   ]
  },
  {
   "cell_type": "code",
   "execution_count": 18,
   "metadata": {},
   "outputs": [
    {
     "data": {
      "text/plain": [
       "['12 drummers',\n",
       " '11 pipers',\n",
       " '10 lords',\n",
       " '9 ladies',\n",
       " '8 maids',\n",
       " '7 swans',\n",
       " '6 geese',\n",
       " '5 rings',\n",
       " '4 birds',\n",
       " '3 hens',\n",
       " '2 doves',\n",
       " '1 partridge']"
      ]
     },
     "execution_count": 18,
     "metadata": {},
     "output_type": "execute_result"
    }
   ],
   "source": [
    "#back to regular expression. '+' matches one or more times. '*' matches zero or more times\n",
    "#\\d for digits, \\s for space, \\w for letter, digit or the underscore\n",
    "xmasRegex = re.compile(r'\\d+\\s\\w+')\n",
    "xmasRegex.findall('12 drummers, 11 pipers, 10 lords, 9 ladies, 8 maids, 7 swans, 6 geese, 5 rings, 4 birds, 3 hens, 2 doves, 1 partridge')"
   ]
  },
  {
   "cell_type": "code",
   "execution_count": 29,
   "metadata": {},
   "outputs": [
    {
     "data": {
      "text/plain": [
       "'First Name: Partha Last Name: Karthikeyan'"
      ]
     },
     "execution_count": 29,
     "metadata": {},
     "output_type": "execute_result"
    }
   ],
   "source": [
    "#Match everything with (.*)\n",
    "\n",
    "nameRegex = re.compile(r'First Name:(.*) Last Name: (.*)')\n",
    "mo = nameRegex.search('First Name: Partha Last Name: Karthikeyan')\n",
    "mo.group(1)\n",
    "mo.group(2)\n",
    "mo.group()"
   ]
  },
  {
   "cell_type": "code",
   "execution_count": 20,
   "metadata": {},
   "outputs": [
    {
     "data": {
      "text/plain": [
       "'Robocop'"
      ]
     },
     "execution_count": 20,
     "metadata": {},
     "output_type": "execute_result"
    }
   ],
   "source": [
    "#re.I to make regex case-insensitive\n",
    "robocop = re.compile(r'robocop', re.I)\n",
    "robocop.search('Robocop is part man, part machine, all cop.').group()"
   ]
  },
  {
   "cell_type": "code",
   "execution_count": 21,
   "metadata": {},
   "outputs": [
    {
     "data": {
      "text/plain": [
       "'CENSORED gave the secret documents to CENSORED.'"
      ]
     },
     "execution_count": 21,
     "metadata": {},
     "output_type": "execute_result"
    }
   ],
   "source": [
    "#sub() to substitute the searched pattern\n",
    "namesRegex = re.compile(r'Agent \\w+')\n",
    "namesRegex.sub('CENSORED', 'Agent Alice gave the secret documents to Agent Bob.')"
   ]
  },
  {
   "cell_type": "code",
   "execution_count": 22,
   "metadata": {},
   "outputs": [],
   "source": [
    "#re.VERBOSE to ignore comments and whitespace\n",
    "phoneRegex1 = re.compile(r'((\\d{3}|\\(\\d{3}\\))?(\\s|-|\\.)?\\d{3}(\\s|-|\\.)\\d{4}(\\s*(ext|x|ext.)\\s*\\d{2,5})?)')\n"
   ]
  },
  {
   "cell_type": "code",
   "execution_count": 23,
   "metadata": {},
   "outputs": [],
   "source": [
    "phoneRegex = re.compile(r'''(\n",
    "            (\\d{3}|\\(\\d{3}\\))?    # area code\n",
    "            (\\s|-|\\.)?   # separator\n",
    "                # first 3 digits\n",
    "                # separator\n",
    "                # last 4 digits\n",
    "                # extension\n",
    "    )''', re.VERBOSE)"
   ]
  },
  {
   "cell_type": "code",
   "execution_count": 25,
   "metadata": {
    "scrolled": false
   },
   "outputs": [],
   "source": [
    "#create an email regex\n",
    "emailRegex = re.compile(r'[a-zA-Z0-9._%+-]+@[]\\.[]{2,4}')"
   ]
  }
 ],
 "metadata": {
  "kernelspec": {
   "display_name": "Python 3",
   "language": "python",
   "name": "python3"
  },
  "language_info": {
   "codemirror_mode": {
    "name": "ipython",
    "version": 3
   },
   "file_extension": ".py",
   "mimetype": "text/x-python",
   "name": "python",
   "nbconvert_exporter": "python",
   "pygments_lexer": "ipython3",
   "version": "3.7.0"
  }
 },
 "nbformat": 4,
 "nbformat_minor": 2
}
