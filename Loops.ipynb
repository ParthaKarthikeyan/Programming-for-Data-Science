{
 "cells": [
  {
   "cell_type": "markdown",
   "metadata": {
    "collapsed": true
   },
   "source": [
    "# Programming for Data Science (Python)"
   ]
  },
  {
   "cell_type": "code",
   "execution_count": 1,
   "metadata": {},
   "outputs": [],
   "source": [
    "from IPython.core.interactiveshell import InteractiveShell\n",
    "InteractiveShell.ast_node_interactivity = \"all\""
   ]
  },
  {
   "cell_type": "markdown",
   "metadata": {},
   "source": [
    "### 1. while True loops forever unless a break statement is used."
   ]
  },
  {
   "cell_type": "code",
   "execution_count": 1,
   "metadata": {},
   "outputs": [
    {
     "name": "stdout",
     "output_type": "stream",
     "text": [
      "enter a name: 789\n",
      "Sounds not right. Please try again.\n",
      "enter a name: 767\n",
      "Sounds not right. Please try again.\n",
      "enter a name: 67698\n",
      "Sounds not right. Please try again.\n",
      "enter a name: ok\n",
      "nice name\n"
     ]
    }
   ],
   "source": [
    "#use while TRUE to ensure that the user enters only characters for names.\n",
    "while True:\n",
    "    yourname = input(\"enter a name: \")\n",
    "    if yourname.isalpha():\n",
    "        print(\"nice name\")\n",
    "        break\n",
    "    else:\n",
    "        print(\"Sounds not right. Please try again.\")"
   ]
  },
  {
   "cell_type": "code",
   "execution_count": 2,
   "metadata": {},
   "outputs": [
    {
     "name": "stdout",
     "output_type": "stream",
     "text": [
      "Welcome to Little Sandwich. Please make your selection.\n",
      "'c'for cheese and 'v' for veggie\n",
      "h\n",
      "Sorry, we do not have this type of sandwich. Try again.\n",
      "'c'for cheese and 'v' for veggie\n",
      "c\n",
      "Please select your cheese:\n",
      "\n",
      "'s' for Swiss and 'a' for American\n",
      "g\n",
      "Sorry, we do not have this type of cheese. Try again.\n",
      "Please select your cheese:\n",
      "\n",
      "'s' for Swiss and 'a' for American\n",
      "a\n",
      "Here is your American cheese sandwich. Thank you.\n"
     ]
    }
   ],
   "source": [
    "#Let's revisit our sandwich problem. Instead of saying goodbye when the customer input is wrong, we keep asking\n",
    "#them to make a selection until they get it right.\n",
    "\n",
    "print(\"Welcome to Little Sandwich. Please make your selection.\")\n",
    "\n",
    "while True:\n",
    "    sandwichtype=input(\"'c'for cheese and 'v' for veggie\\n\")\n",
    "    if sandwichtype.lower()=='c':\n",
    "        while True:\n",
    "            print(\"Please select your cheese:\\n\")\n",
    "            cheesetype=input(\"'s' for Swiss and 'a' for American\\n\")\n",
    "            if cheesetype.lower()=='s':\n",
    "                print(\"Here is your Swiss cheese sandwich. Thank you.\")\n",
    "                break\n",
    "            elif cheesetype.lower()=='a':\n",
    "                print(\"Here is your American cheese sandwich. Thank you.\")\n",
    "                break\n",
    "            else:\n",
    "                print(\"Sorry, we do not have this type of cheese. Try again.\")\n",
    "        break\n",
    "    elif sandwichtype.lower()=='v':\n",
    "        print(\"Here is your veggie sandwich. Thank you.\")\n",
    "        break\n",
    "    else:\n",
    "        print(\"Sorry, we do not have this type of sandwich. Try again.\")"
   ]
  },
  {
   "cell_type": "code",
   "execution_count": null,
   "metadata": {
    "collapsed": true
   },
   "outputs": [],
   "source": [
    "#Let's try another way of nesting the conditions and loops\n"
   ]
  },
  {
   "cell_type": "code",
   "execution_count": 5,
   "metadata": {},
   "outputs": [
    {
     "name": "stdout",
     "output_type": "stream",
     "text": [
      "Please enter product name. When you done, type in 'Done'\n",
      "apple \n",
      "Please enter product name. When you done, type in 'Done'\n",
      "banana\n",
      "Please enter product name. When you done, type in 'Done'\n",
      "grape\n",
      "Please enter product name. When you done, type in 'Done'\n",
      "acid\n",
      "Please enter product name. When you done, type in 'Done'\n",
      "cocaine\n",
      "Please enter product name. When you done, type in 'Done'\n",
      "done\n",
      "['1. Apple ', '2. Banana', '3. Grape', '4. Acid', '5. Cocaine']\n"
     ]
    }
   ],
   "source": [
    "#to allow entering product names until the user types in \"done\"\n",
    "productlist = []\n",
    "itemnumber = 0\n",
    "\n",
    "while True:\n",
    "    productname = input(\"Please enter product name. When you done, type in 'Done'\\n\")\n",
    "    if productname.lower() == 'done':\n",
    "        break\n",
    "    else:\n",
    "        itemnumber+=1\n",
    "        productlist.append(str(itemnumber)+'. '+productname.capitalize())\n",
    "print(productlist)"
   ]
  },
  {
   "cell_type": "markdown",
   "metadata": {},
   "source": [
    "### 2. while loop with conditions"
   ]
  },
  {
   "cell_type": "code",
   "execution_count": 4,
   "metadata": {},
   "outputs": [
    {
     "name": "stdout",
     "output_type": "stream",
     "text": [
      "enter a lottery number (0 to quit): 9\n",
      "you win\n",
      "enter a lottery number (0 to quit): 10\n",
      "Sorry.\n",
      "enter a lottery number (0 to quit): 0\n"
     ]
    }
   ],
   "source": [
    "# Ask the user to input a number. If the user enters a number is multiple of 3, a winner; otherwise, no; \n",
    "# The user can continue to play for any number of times, but should be given a chance for the user to quit.\n",
    "\n",
    "lottery = int(input(\"enter a lottery number (0 to quit): \"))\n",
    "\n",
    "while lottery>0:\n",
    "    if int(lottery/3) == lottery/3:\n",
    "        print(\"you win\")\n",
    "    else:\n",
    "        print(\"Sorry.\")\n",
    "    lottery = int(input(\"enter a lottery number (0 to quit): \"))"
   ]
  },
  {
   "cell_type": "code",
   "execution_count": 3,
   "metadata": {},
   "outputs": [
    {
     "data": {
      "text/plain": [
       "2"
      ]
     },
     "execution_count": 3,
     "metadata": {},
     "output_type": "execute_result"
    }
   ],
   "source": [
    "int(8/3)"
   ]
  },
  {
   "cell_type": "markdown",
   "metadata": {},
   "source": [
    "### 3. for loop"
   ]
  },
  {
   "cell_type": "code",
   "execution_count": 11,
   "metadata": {},
   "outputs": [
    {
     "name": "stdout",
     "output_type": "stream",
     "text": [
      "1. Apple \n",
      "2. Banana\n",
      "3. Grape\n",
      "4. Acid\n",
      "5. Cocaine\n"
     ]
    }
   ],
   "source": [
    "# to print out all items in the product list, one item at a time\n",
    "for i in range(len(productlist)):\n",
    "    print('' + productlist[i])"
   ]
  },
  {
   "cell_type": "code",
   "execution_count": 8,
   "metadata": {},
   "outputs": [
    {
     "name": "stdout",
     "output_type": "stream",
     "text": [
      "[0, 1, 2]\n"
     ]
    }
   ],
   "source": [
    "x = list(range(3))\n",
    "print(x)"
   ]
  },
  {
   "cell_type": "code",
   "execution_count": 12,
   "metadata": {},
   "outputs": [
    {
     "name": "stdout",
     "output_type": "stream",
     "text": [
      "Please enter your user name: (attempt 1)\n",
      "john\n",
      "Please type in your password\n",
      "asdf\n",
      "Wrong password\n",
      "Please enter your user name: (attempt 2)\n",
      "john\n",
      "Please type in your password\n",
      "adb\n",
      "Wrong password\n",
      "Please enter your user name: (attempt 3)\n",
      "john\n",
      "Please type in your password\n",
      "adb\n",
      "Wrong password\n"
     ]
    }
   ],
   "source": [
    "# Allow a user to type in a combination of user name and password up to three attempts. Remind the user if\n",
    "# the combination is wrong.\n",
    "logininfo = {'john':'12345', 'alice':'love', 'james':'pokemon'}\n",
    "\n",
    "for i in range(3):\n",
    "    print('Please enter your user name: (attempt '+str(i+1)+')')\n",
    "    username = input()\n",
    "    if username in logininfo:\n",
    "        print(\"Please type in your password\")\n",
    "        userpassword = input()\n",
    "        if userpassword == logininfo[username]:\n",
    "            print(\"You are logged in\")\n",
    "            break\n",
    "        else:\n",
    "            print(\"Wrong password\")\n",
    "            i+=1\n",
    "    else:\n",
    "        print(\"wrong username\")\n",
    "        i+=1"
   ]
  },
  {
   "cell_type": "code",
   "execution_count": 14,
   "metadata": {},
   "outputs": [
    {
     "name": "stdout",
     "output_type": "stream",
     "text": [
      "username is: john\n",
      "password is: 12345\n",
      "username is: alice\n",
      "password is: love\n",
      "username is: james\n",
      "password is: pokemon\n"
     ]
    }
   ],
   "source": [
    "#To print the username/password pair from the dictionary\n",
    "for k, v in logininfo.items():\n",
    "    print('username is: '+k+'\\npassword is: '+v)"
   ]
  },
  {
   "cell_type": "code",
   "execution_count": 18,
   "metadata": {},
   "outputs": [
    {
     "name": "stdout",
     "output_type": "stream",
     "text": [
      "True\n"
     ]
    }
   ],
   "source": [
    "# write a function to compare two lists. Return True if they have at least one item in common.\n",
    "def common_element(list1, list2):\n",
    "    result = False\n",
    "    for i in list1:\n",
    "        for j in list2:\n",
    "            if i == j:\n",
    "                result = True\n",
    "                return result\n",
    "print(common_element([1,2,3,4,5],[5,6,7,8]))\n"
   ]
  },
  {
   "cell_type": "code",
   "execution_count": null,
   "metadata": {},
   "outputs": [
    {
     "name": "stdout",
     "output_type": "stream",
     "text": [
      " | | \n",
      "-+-+-\n",
      " | | \n",
      "-+-+-\n",
      " | | \n",
      " | | \n",
      "-+-+-\n",
      " | | \n",
      "-+-+-\n",
      " | | \n",
      "Turn for X. Move on which space?\n",
      "top-l\n",
      " | | \n",
      "-+-+-\n",
      " | | \n",
      "-+-+-\n",
      " | | \n",
      "Turn for O. Move on which space?\n",
      "top-L\n",
      "O| | \n",
      "-+-+-\n",
      " | | \n",
      "-+-+-\n",
      " | | \n",
      "Turn for X. Move on which space?\n"
     ]
    }
   ],
   "source": [
    "#Create a game of Tic-tac-toe\n",
    "theBoard = {'top-L': ' ', 'top-M': ' ', 'top-R': ' ', 'mid-L': ' ', 'mid-M': ' ',\n",
    "'mid-R': ' ', 'low-L': ' ', 'low-M': ' ', 'low-R': ' '}\n",
    "\n",
    "def printBoard(board):\n",
    "            print(board['top-L'] + '|' + board['top-M'] + '|' + board['top-R'])\n",
    "            print('-+-+-')\n",
    "            print(board['mid-L'] + '|' + board['mid-M'] + '|' + board['mid-R'])\n",
    "            print('-+-+-')\n",
    "            print(board['low-L'] + '|' + board['low-M'] + '|' + board['low-R'])\n",
    "printBoard(theBoard)\n",
    "\n",
    "turn = 'X'\n",
    "for i in range(9):\n",
    "    printBoard(theBoard)\n",
    "    print('Turn for '+ turn + '. Move on which space?')\n",
    "    move = input()\n",
    "    theBoard[move]= turn\n",
    "    if turn == \"X\":\n",
    "        turn = 'O'\n",
    "    else:\n",
    "        turn = 'X'\n",
    "printBoard(theBoard)\n"
   ]
  },
  {
   "cell_type": "markdown",
   "metadata": {},
   "source": [
    "### 4. Date and time"
   ]
  },
  {
   "cell_type": "code",
   "execution_count": 52,
   "metadata": {
    "scrolled": false
   },
   "outputs": [
    {
     "name": "stdout",
     "output_type": "stream",
     "text": [
      "Current Year is: 2019\n",
      "Current Month is: 3\n",
      "Current Day is: 5\n",
      "Current Hour is: 18\n",
      "Current Minute is: 39\n",
      "Current Second is: 1\n",
      "Current Microsecond is: 563960\n"
     ]
    }
   ],
   "source": [
    "# Write a Python script to display times\n",
    "import time\n",
    "import datetime\n",
    "#a) Current date and time\n",
    "#b) Current year\n",
    "\n",
    "#c) Month of year\n",
    "\n",
    "#d) Week number of the year\n",
    "\n",
    "#e) Weekday of the week\n",
    "\n",
    "#f) Day of year\n",
    "\n",
    "#g) Day of the month\n",
    "\n",
    "#h) Day of week\n",
    "\n",
    "\n",
    "currentDT = datetime.datetime.now()\n",
    "\n",
    "print (\"Current Year is: %d\" % currentDT.year)\n",
    "print (\"Current Month is: %d\" % currentDT.month)\n",
    "print (\"Current Day is: %d\" % currentDT.day)\n",
    "print (\"Current Hour is: %d\" % currentDT.hour)\n",
    "print (\"Current Minute is: %d\" % currentDT.minute)\n",
    "print (\"Current Second is: %d\" % currentDT.second)\n",
    "print (\"Current Microsecond is: %d\" % currentDT.microsecond)\n",
    "\n"
   ]
  }
 ],
 "metadata": {
  "kernelspec": {
   "display_name": "Python 3",
   "language": "python",
   "name": "python3"
  },
  "language_info": {
   "codemirror_mode": {
    "name": "ipython",
    "version": 3
   },
   "file_extension": ".py",
   "mimetype": "text/x-python",
   "name": "python",
   "nbconvert_exporter": "python",
   "pygments_lexer": "ipython3",
   "version": "3.7.0"
  }
 },
 "nbformat": 4,
 "nbformat_minor": 2
}
